{
  "nbformat": 4,
  "nbformat_minor": 0,
  "metadata": {
    "colab": {
      "provenance": [],
      "toc_visible": true
    },
    "kernelspec": {
      "name": "python3",
      "display_name": "Python 3"
    },
    "language_info": {
      "name": "python"
    }
  },
  "cells": [
    {
      "cell_type": "markdown",
      "source": [
        "## Trabalho : Machine Learning\n",
        "\n",
        "**Objetivo:**\n",
        "\n",
        "O objetivo deste trabalho é construir uma classe em Python que utilize diferentes modelos de Machine Learning para um problema de classificação ou regressão (a sua escolha). A classe deve ser capaz de:\n",
        "\n",
        "* Receber os dados crus como entrada.\n",
        "* Preparar os dados para o aprendizado de máquina, incluindo limpeza, tratamento de valores ausentes e  possíveis normalizações.\n",
        "* Criar novas features incluindo dados do próprio dataset ou adicionando dados de outros datasets.\n",
        "* Treinar e avaliar 3 diferentes modelos de Machine Learning (utilize os modelos corretos para a tarefa escolhida).\n",
        "* Selecionar o modelo com melhor desempenho com base na validação cruzada (cross_validate).\n",
        "* Gerar um sumário da validação cruzada, incluindo as principais métricas, nome do melhor modelo, avaliação de overfitting e um print dos principais hiperparâmetros escolhidos.\n",
        "* Plotar gráficos que ilustrem o desempenho do modelo durante a validação cruzada.\n",
        "\n",
        "**Requisitos:**\n",
        "\n",
        "* A classe deve ser implementada em Python utilizando bibliotecas como NumPy, Pandas, Scikit-learn e Matplotlib.\n",
        "* O código deve ser bem documentado e comentado.\n",
        "* O trabalho deve ser entregue em um notebook que inclua:\n",
        "    * Introdução ao problema de Machine Learning a ser abordado.\n",
        "    * Descrição da classe implementada, incluindo seus métodos e atributos.\n",
        "    * Sumário da validação cruzada para cada modelo.\n",
        "    * Descrição do modelo escolhido e suas principais características.\n",
        "    * Gráficos que ilustrem o desempenho do modelo.\n",
        "    * Conclusões e discussões sobre os resultados obtidos.\n",
        "\n",
        "**Recursos:**\n",
        "\n",
        "* Documentação do Scikit-learn: [https://scikit-learn.org/stable/index.html](https://scikit-learn.org/stable/index.html)\n",
        "\n",
        "* Sites para download de datasets: [UCI](https://archive.ics.uci.edu/ml/datasets/iris), [Kaggle](https://www.kaggle.com/)\n",
        "\n",
        "\n",
        "**Data de entrega:**\n",
        "\n",
        "15/04/2024\n",
        "\n",
        "**Critérios de avaliação:**\n",
        "\n",
        "* Implementação correta da classe em Python.\n",
        "* Documentação clara e completa do código.\n",
        "* Desempenho do modelo escolhido na validação cruzada.\n",
        "* Clareza e concisão nas conclusões e discussões.\n",
        "\n",
        "**Observações:**\n",
        "\n",
        "* Este trabalho é individual.\n",
        "* É permitido consultar a internet e outros recursos para auxiliar na implementação da classe e na elaboração do relatório.\n",
        "* Em caso de dúvidas, entre em contato com o professor.\n",
        "\n",
        "**Sugestões de modelos:**\n",
        "\n",
        "* Regressão Linear (para regressão)\n",
        "* LogisticRegression (para classificação)\n",
        "* KNN (regressor ou classifier)\n",
        "* DecisionTree (regressor ou classifier)\n",
        "* RandomForest (regressor ou classificer)\n",
        "* VotingClassifier\n",
        "* VotingRegressor\n",
        "\n",
        "**Dicas:**\n",
        "\n",
        "* Comece por implementar um modelo simples e depois vá aumentando a complexidade gradativamente.\n",
        "* Utilize a validação cruzada para avaliar o desempenho dos modelos de forma imparcial.\n",
        "* Experimente diferentes hiperparâmetros para cada modelo.\n",
        "* Defina claramente o método de avaliação para definiçao de melhor modelo.\n",
        "* Interprete os resultados do modelo escolhido para entender como ele funciona.\n",
        "\n",
        "**Espero que este trabalho seja uma oportunidade para você aprender mais sobre Machine Learning e aplicar seus conhecimentos na prática.**\n"
      ],
      "metadata": {
        "id": "yyx7VGPsFD12"
      }
    },
    {
      "cell_type": "code",
      "execution_count": null,
      "metadata": {
        "id": "_F1msFTDFBbR"
      },
      "outputs": [],
      "source": []
    }
  ]
}