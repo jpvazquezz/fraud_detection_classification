{
 "cells": [
  {
   "cell_type": "markdown",
   "metadata": {},
   "source": [
    "# Inputs"
   ]
  },
  {
   "cell_type": "markdown",
   "metadata": {},
   "source": [
    "* **Problema de Negócio**: Predição de transação fraudulenta no cartão de crédito\n",
    "* **Problema técnico**: construir em Python uma classe que utilize diferentes modelos de Machine Learning para o problema de _classificação_\n",
    "* **Conjunto de Dados**: [Credit Card Fraud Prediction](https://www.kaggle.com/datasets/kelvinkelue/credit-card-fraud-prediction)"
   ]
  },
  {
   "cell_type": "markdown",
   "metadata": {},
   "source": [
    "## Dicionário de Dados"
   ]
  },
  {
   "cell_type": "markdown",
   "metadata": {},
   "source": [
    "Trans_date_trans_time: Timestamp of the transaction (date and time).\n",
    "\n",
    "Cc_num:Unique customer identification number.\n",
    "\n",
    "MerchantThe merchant involved in the transaction.\n",
    "\n",
    "Category Transaction type (e.g., personal, childcare).\n",
    "\n",
    "Amt:Transaction amount.\n",
    "\n",
    "First: Cardholder's first name.\n",
    "\n",
    "Last Cardholder's last name.\n",
    "\n",
    "Gender: Cardholder's gender.\n",
    "\n",
    "Street: Cardholder's street address.\n",
    "\n",
    "City: Cardholder's city of residence.\n",
    "\n",
    "State: Cardholder's state of residence.\n",
    "\n",
    "Zip: Cardholder's zip code.\n",
    "\n",
    "Lat:Latitude of cardholder's location.\n",
    "\n",
    "Long: Longitude of cardholder's location.\n",
    "\n",
    "City_pop:Population of the cardholder's city.\n",
    "\n",
    "Job:Cardholder's job title.\n",
    "\n",
    "Dob: Cardholder's date of birth.\n",
    "\n",
    "Trans_num: Unique transaction identifier.\n",
    "\n",
    "Unix_time: Transaction timestamp (Unix format).\n",
    "\n",
    "Merch_lat:Merchant's location (latitude).\n",
    "\n",
    "Merch_long: Merchant's location (longitude).\n",
    "\n",
    "Is_fraud:Fraudulent transaction indicator (1 = fraud, 0 = legitimate). This is the target variable for classification purposes."
   ]
  },
  {
   "cell_type": "markdown",
   "metadata": {},
   "source": [
    "# Tarefas"
   ]
  },
  {
   "cell_type": "markdown",
   "metadata": {},
   "source": [
    "* A classe deve contar com funções que incluam:\n",
    "    * Obteção dos dados (import data)\n",
    "    * Limpeza dos dados (data wragling)\n",
    "    * Tratamento de dados ausentes\n",
    "    * Normalizações (Data modeling, encoding, etc)\n",
    "    * Feature Engineering\n",
    "    * 3 Modelos de Machine Learning\n",
    "    * Relatório do Cross-Validation\n",
    "        - Principais Métricas (precisão, recall, f1-score)\n",
    "        - Nome do modelo\n",
    "        - Avaliação de Overfitting\n",
    "        - print dos hiperparãmetros escolhidos\n",
    "    * Plotar gráficos da cross-validação (desempenho ao longo)\n",
    "* Bibliotecas: Numpy, Pandas, Sci-kit learn e Matplotlib"
   ]
  },
  {
   "cell_type": "markdown",
   "metadata": {},
   "source": [
    " # Outputs"
   ]
  },
  {
   "cell_type": "markdown",
   "metadata": {},
   "source": [
    "* Notebook, incluindo:\n",
    "    * Introdução ao problema de Machine Learning a ser abordado.\n",
    "    * Descrição e DOcumentação da classe implementada, incluindo seus métodos e atributos.\n",
    "    * Sumário da validação cruzada para cada modelo.\n",
    "    * Descrição do modelo escolhido e suas principais características.\n",
    "    * Gráficos que ilustrem o desempenho do modelo.\n",
    "    * Conclusões e discussões sobre os resultados obtidos."
   ]
  }
 ],
 "metadata": {
  "language_info": {
   "name": "python"
  }
 },
 "nbformat": 4,
 "nbformat_minor": 2
}
