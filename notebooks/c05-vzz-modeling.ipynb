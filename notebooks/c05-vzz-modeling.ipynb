{
 "cells": [
  {
   "cell_type": "markdown",
   "metadata": {},
   "source": [
    "# 0.0 Imports"
   ]
  },
  {
   "cell_type": "code",
   "execution_count": 1,
   "metadata": {},
   "outputs": [],
   "source": [
    "import pandas as pd\n",
    "import numpy as np\n",
    "import matplotlib.pyplot as plt\n",
    "import seaborn as sns\n",
    "\n",
    "from dateutil.relativedelta import relativedelta\n",
    "from datetime import datetime\n",
    "from sklearn.preprocessing import MinMaxScaler, StandardScaler\n",
    "from sklearn.model_selection import train_test_split, cross_val_score\n",
    "from sklearn.metrics import f1_score, roc_curve"
   ]
  },
  {
   "cell_type": "markdown",
   "metadata": {},
   "source": [
    "## 0.1 Functions"
   ]
  },
  {
   "cell_type": "code",
   "execution_count": 2,
   "metadata": {},
   "outputs": [],
   "source": [
    "def descriptive_statistics(num):\n",
    "    # Central Tendency - mean, median\n",
    "\n",
    "    ct1 = pd.DataFrame(num.apply(np.mean)).T\n",
    "    ct2 = pd.DataFrame(num.apply(np.median)).T\n",
    "\n",
    "    # Dispersion - std, min, max, range, skew, curtosis\n",
    "    d1 = pd.DataFrame(num.apply(min)).T\n",
    "    d2 = pd.DataFrame(num.apply(max)).T\n",
    "    d3 = pd.DataFrame(num.apply(lambda x: x.max()-x.min())).T\n",
    "    d4 = pd.DataFrame(num.apply(np.std)).T\n",
    "    d5 = pd.DataFrame(num.apply(lambda x: x.skew())).T\n",
    "    d6 = pd.DataFrame(num.apply(lambda x: x.kurtosis())).T\n",
    "\n",
    "    ctd = pd.concat([ct1,ct2,d1,d2,d3,d4,d5,d6]).T.reset_index()\n",
    "    ctd.columns = ['features', 'mean','median','min','max','range','std','skew','kurtosis']\n",
    "    return ctd"
   ]
  },
  {
   "cell_type": "markdown",
   "metadata": {},
   "source": [
    "## 0.2 Import Data"
   ]
  },
  {
   "cell_type": "code",
   "execution_count": 3,
   "metadata": {},
   "outputs": [
    {
     "data": {
      "text/html": [
       "<div>\n",
       "<style scoped>\n",
       "    .dataframe tbody tr th:only-of-type {\n",
       "        vertical-align: middle;\n",
       "    }\n",
       "\n",
       "    .dataframe tbody tr th {\n",
       "        vertical-align: top;\n",
       "    }\n",
       "\n",
       "    .dataframe thead th {\n",
       "        text-align: right;\n",
       "    }\n",
       "</style>\n",
       "<table border=\"1\" class=\"dataframe\">\n",
       "  <thead>\n",
       "    <tr style=\"text-align: right;\">\n",
       "      <th></th>\n",
       "      <th>trans_date_trans_time</th>\n",
       "      <th>cc_num</th>\n",
       "      <th>merchant</th>\n",
       "      <th>category</th>\n",
       "      <th>amt</th>\n",
       "      <th>first</th>\n",
       "      <th>last</th>\n",
       "      <th>gender</th>\n",
       "      <th>street</th>\n",
       "      <th>city</th>\n",
       "      <th>...</th>\n",
       "      <th>lat</th>\n",
       "      <th>long</th>\n",
       "      <th>city_pop</th>\n",
       "      <th>job</th>\n",
       "      <th>dob</th>\n",
       "      <th>trans_num</th>\n",
       "      <th>unix_time</th>\n",
       "      <th>merch_lat</th>\n",
       "      <th>merch_long</th>\n",
       "      <th>is_fraud</th>\n",
       "    </tr>\n",
       "  </thead>\n",
       "  <tbody>\n",
       "    <tr>\n",
       "      <th>0</th>\n",
       "      <td>21/06/2020 12:14</td>\n",
       "      <td>2.291160e+15</td>\n",
       "      <td>fraud_Kirlin and Sons</td>\n",
       "      <td>personal_care</td>\n",
       "      <td>2.86</td>\n",
       "      <td>Jeff</td>\n",
       "      <td>Elliott</td>\n",
       "      <td>M</td>\n",
       "      <td>351 Darlene Green</td>\n",
       "      <td>Columbia</td>\n",
       "      <td>...</td>\n",
       "      <td>33.9659</td>\n",
       "      <td>-80.9355</td>\n",
       "      <td>333497</td>\n",
       "      <td>Mechanical engineer</td>\n",
       "      <td>19/03/1968</td>\n",
       "      <td>2da90c7d74bd46a0caf3777415b3ebd3</td>\n",
       "      <td>1371816865</td>\n",
       "      <td>33.986391</td>\n",
       "      <td>-81.200714</td>\n",
       "      <td>0</td>\n",
       "    </tr>\n",
       "    <tr>\n",
       "      <th>1</th>\n",
       "      <td>21/06/2020 12:14</td>\n",
       "      <td>3.573030e+15</td>\n",
       "      <td>fraud_Sporer-Keebler</td>\n",
       "      <td>personal_care</td>\n",
       "      <td>29.84</td>\n",
       "      <td>Joanne</td>\n",
       "      <td>Williams</td>\n",
       "      <td>F</td>\n",
       "      <td>3638 Marsh Union</td>\n",
       "      <td>Altonah</td>\n",
       "      <td>...</td>\n",
       "      <td>40.3207</td>\n",
       "      <td>-110.4360</td>\n",
       "      <td>302</td>\n",
       "      <td>Sales professional, IT</td>\n",
       "      <td>17/01/1990</td>\n",
       "      <td>324cc204407e99f51b0d6ca0055005e7</td>\n",
       "      <td>1371816873</td>\n",
       "      <td>39.450498</td>\n",
       "      <td>-109.960431</td>\n",
       "      <td>0</td>\n",
       "    </tr>\n",
       "    <tr>\n",
       "      <th>2</th>\n",
       "      <td>21/06/2020 12:14</td>\n",
       "      <td>3.598220e+15</td>\n",
       "      <td>fraud_Swaniawski, Nitzsche and Welch</td>\n",
       "      <td>health_fitness</td>\n",
       "      <td>41.28</td>\n",
       "      <td>Ashley</td>\n",
       "      <td>Lopez</td>\n",
       "      <td>F</td>\n",
       "      <td>9333 Valentine Point</td>\n",
       "      <td>Bellmore</td>\n",
       "      <td>...</td>\n",
       "      <td>40.6729</td>\n",
       "      <td>-73.5365</td>\n",
       "      <td>34496</td>\n",
       "      <td>Librarian, public</td>\n",
       "      <td>21/10/1970</td>\n",
       "      <td>c81755dbbbea9d5c77f094348a7579be</td>\n",
       "      <td>1371816893</td>\n",
       "      <td>40.495810</td>\n",
       "      <td>-74.196111</td>\n",
       "      <td>0</td>\n",
       "    </tr>\n",
       "    <tr>\n",
       "      <th>3</th>\n",
       "      <td>21/06/2020 12:15</td>\n",
       "      <td>3.591920e+15</td>\n",
       "      <td>fraud_Haley Group</td>\n",
       "      <td>misc_pos</td>\n",
       "      <td>60.05</td>\n",
       "      <td>Brian</td>\n",
       "      <td>Williams</td>\n",
       "      <td>M</td>\n",
       "      <td>32941 Krystal Mill Apt. 552</td>\n",
       "      <td>Titusville</td>\n",
       "      <td>...</td>\n",
       "      <td>28.5697</td>\n",
       "      <td>-80.8191</td>\n",
       "      <td>54767</td>\n",
       "      <td>Set designer</td>\n",
       "      <td>25/07/1987</td>\n",
       "      <td>2159175b9efe66dc301f149d3d5abf8c</td>\n",
       "      <td>1371816915</td>\n",
       "      <td>28.812398</td>\n",
       "      <td>-80.883061</td>\n",
       "      <td>0</td>\n",
       "    </tr>\n",
       "    <tr>\n",
       "      <th>4</th>\n",
       "      <td>21/06/2020 12:15</td>\n",
       "      <td>3.526830e+15</td>\n",
       "      <td>fraud_Johnston-Casper</td>\n",
       "      <td>travel</td>\n",
       "      <td>3.19</td>\n",
       "      <td>Nathan</td>\n",
       "      <td>Massey</td>\n",
       "      <td>M</td>\n",
       "      <td>5783 Evan Roads Apt. 465</td>\n",
       "      <td>Falmouth</td>\n",
       "      <td>...</td>\n",
       "      <td>44.2529</td>\n",
       "      <td>-85.0170</td>\n",
       "      <td>1126</td>\n",
       "      <td>Furniture designer</td>\n",
       "      <td>06/07/1955</td>\n",
       "      <td>57ff021bd3f328f8738bb535c302a31b</td>\n",
       "      <td>1371816917</td>\n",
       "      <td>44.959148</td>\n",
       "      <td>-85.884734</td>\n",
       "      <td>0</td>\n",
       "    </tr>\n",
       "  </tbody>\n",
       "</table>\n",
       "<p>5 rows × 22 columns</p>\n",
       "</div>"
      ],
      "text/plain": [
       "  trans_date_trans_time        cc_num                              merchant  \\\n",
       "0      21/06/2020 12:14  2.291160e+15                 fraud_Kirlin and Sons   \n",
       "1      21/06/2020 12:14  3.573030e+15                  fraud_Sporer-Keebler   \n",
       "2      21/06/2020 12:14  3.598220e+15  fraud_Swaniawski, Nitzsche and Welch   \n",
       "3      21/06/2020 12:15  3.591920e+15                     fraud_Haley Group   \n",
       "4      21/06/2020 12:15  3.526830e+15                 fraud_Johnston-Casper   \n",
       "\n",
       "         category    amt   first      last gender  \\\n",
       "0   personal_care   2.86    Jeff   Elliott      M   \n",
       "1   personal_care  29.84  Joanne  Williams      F   \n",
       "2  health_fitness  41.28  Ashley     Lopez      F   \n",
       "3        misc_pos  60.05   Brian  Williams      M   \n",
       "4          travel   3.19  Nathan    Massey      M   \n",
       "\n",
       "                        street        city  ...      lat      long  city_pop  \\\n",
       "0            351 Darlene Green    Columbia  ...  33.9659  -80.9355    333497   \n",
       "1             3638 Marsh Union     Altonah  ...  40.3207 -110.4360       302   \n",
       "2         9333 Valentine Point    Bellmore  ...  40.6729  -73.5365     34496   \n",
       "3  32941 Krystal Mill Apt. 552  Titusville  ...  28.5697  -80.8191     54767   \n",
       "4     5783 Evan Roads Apt. 465    Falmouth  ...  44.2529  -85.0170      1126   \n",
       "\n",
       "                      job         dob                         trans_num  \\\n",
       "0     Mechanical engineer  19/03/1968  2da90c7d74bd46a0caf3777415b3ebd3   \n",
       "1  Sales professional, IT  17/01/1990  324cc204407e99f51b0d6ca0055005e7   \n",
       "2       Librarian, public  21/10/1970  c81755dbbbea9d5c77f094348a7579be   \n",
       "3            Set designer  25/07/1987  2159175b9efe66dc301f149d3d5abf8c   \n",
       "4      Furniture designer  06/07/1955  57ff021bd3f328f8738bb535c302a31b   \n",
       "\n",
       "    unix_time  merch_lat  merch_long  is_fraud  \n",
       "0  1371816865  33.986391  -81.200714         0  \n",
       "1  1371816873  39.450498 -109.960431         0  \n",
       "2  1371816893  40.495810  -74.196111         0  \n",
       "3  1371816915  28.812398  -80.883061         0  \n",
       "4  1371816917  44.959148  -85.884734         0  \n",
       "\n",
       "[5 rows x 22 columns]"
      ]
     },
     "execution_count": 3,
     "metadata": {},
     "output_type": "execute_result"
    }
   ],
   "source": [
    "df = pd.read_csv('../data/fraud_test.csv', index_col = 0)\n",
    "\n",
    "df.head()"
   ]
  },
  {
   "cell_type": "markdown",
   "metadata": {},
   "source": [
    "# 1.0 Data Description"
   ]
  },
  {
   "cell_type": "code",
   "execution_count": 4,
   "metadata": {},
   "outputs": [],
   "source": [
    "df1 = df.copy()"
   ]
  },
  {
   "cell_type": "markdown",
   "metadata": {},
   "source": [
    "## 1.1 Data Dimensions"
   ]
  },
  {
   "cell_type": "code",
   "execution_count": 5,
   "metadata": {},
   "outputs": [
    {
     "name": "stdout",
     "output_type": "stream",
     "text": [
      "O dataset possui 555719 linhas e 22 colunas.\n"
     ]
    }
   ],
   "source": [
    "print(f'O dataset possui {df1.shape[0]} linhas e {df1.shape[1]} colunas.')"
   ]
  },
  {
   "cell_type": "markdown",
   "metadata": {},
   "source": [
    "## 1.2 Data Types"
   ]
  },
  {
   "cell_type": "code",
   "execution_count": 6,
   "metadata": {},
   "outputs": [
    {
     "data": {
      "text/plain": [
       "trans_date_trans_time     object\n",
       "cc_num                   float64\n",
       "merchant                  object\n",
       "category                  object\n",
       "amt                      float64\n",
       "first                     object\n",
       "last                      object\n",
       "gender                    object\n",
       "street                    object\n",
       "city                      object\n",
       "state                     object\n",
       "zip                        int64\n",
       "lat                      float64\n",
       "long                     float64\n",
       "city_pop                   int64\n",
       "job                       object\n",
       "dob                       object\n",
       "trans_num                 object\n",
       "unix_time                  int64\n",
       "merch_lat                float64\n",
       "merch_long               float64\n",
       "is_fraud                   int64\n",
       "dtype: object"
      ]
     },
     "execution_count": 6,
     "metadata": {},
     "output_type": "execute_result"
    }
   ],
   "source": [
    "# Tipo de dados para cada variável\n",
    "df1.dtypes"
   ]
  },
  {
   "cell_type": "code",
   "execution_count": 7,
   "metadata": {},
   "outputs": [
    {
     "data": {
      "text/plain": [
       "object     12\n",
       "float64     6\n",
       "int64       4\n",
       "Name: count, dtype: int64"
      ]
     },
     "execution_count": 7,
     "metadata": {},
     "output_type": "execute_result"
    }
   ],
   "source": [
    "# Quantas variávei de cada tipo\n",
    "df1.dtypes.value_counts()"
   ]
  },
  {
   "cell_type": "markdown",
   "metadata": {},
   "source": [
    "## 1.3 Null Values"
   ]
  },
  {
   "cell_type": "code",
   "execution_count": 8,
   "metadata": {},
   "outputs": [
    {
     "data": {
      "text/plain": [
       "trans_date_trans_time    0\n",
       "cc_num                   0\n",
       "merchant                 0\n",
       "category                 0\n",
       "amt                      0\n",
       "first                    0\n",
       "last                     0\n",
       "gender                   0\n",
       "street                   0\n",
       "city                     0\n",
       "state                    0\n",
       "zip                      0\n",
       "lat                      0\n",
       "long                     0\n",
       "city_pop                 0\n",
       "job                      0\n",
       "dob                      0\n",
       "trans_num                0\n",
       "unix_time                0\n",
       "merch_lat                0\n",
       "merch_long               0\n",
       "is_fraud                 0\n",
       "dtype: int64"
      ]
     },
     "execution_count": 8,
     "metadata": {},
     "output_type": "execute_result"
    }
   ],
   "source": [
    "# No NA values\n",
    "df1.isna().sum()"
   ]
  },
  {
   "cell_type": "markdown",
   "metadata": {},
   "source": [
    "## 1.4 Data Balance"
   ]
  },
  {
   "cell_type": "code",
   "execution_count": 9,
   "metadata": {},
   "outputs": [
    {
     "data": {
      "text/plain": [
       "is_fraud\n",
       "0    553574\n",
       "1      2145\n",
       "Name: count, dtype: int64"
      ]
     },
     "execution_count": 9,
     "metadata": {},
     "output_type": "execute_result"
    }
   ],
   "source": [
    "# Imbalance dataset\n",
    "df1.is_fraud.value_counts()"
   ]
  },
  {
   "cell_type": "markdown",
   "metadata": {},
   "source": [
    "## 1.5 Descriptive Statistics"
   ]
  },
  {
   "cell_type": "code",
   "execution_count": 10,
   "metadata": {},
   "outputs": [
    {
     "data": {
      "text/html": [
       "<div>\n",
       "<style scoped>\n",
       "    .dataframe tbody tr th:only-of-type {\n",
       "        vertical-align: middle;\n",
       "    }\n",
       "\n",
       "    .dataframe tbody tr th {\n",
       "        vertical-align: top;\n",
       "    }\n",
       "\n",
       "    .dataframe thead th {\n",
       "        text-align: right;\n",
       "    }\n",
       "</style>\n",
       "<table border=\"1\" class=\"dataframe\">\n",
       "  <thead>\n",
       "    <tr style=\"text-align: right;\">\n",
       "      <th></th>\n",
       "      <th>features</th>\n",
       "      <th>mean</th>\n",
       "      <th>median</th>\n",
       "      <th>min</th>\n",
       "      <th>max</th>\n",
       "      <th>range</th>\n",
       "      <th>std</th>\n",
       "      <th>skew</th>\n",
       "      <th>kurtosis</th>\n",
       "    </tr>\n",
       "  </thead>\n",
       "  <tbody>\n",
       "    <tr>\n",
       "      <th>0</th>\n",
       "      <td>amt</td>\n",
       "      <td>67.614408</td>\n",
       "      <td>47.15</td>\n",
       "      <td>1.0</td>\n",
       "      <td>22768.11</td>\n",
       "      <td>22767.11</td>\n",
       "      <td>152.471793</td>\n",
       "      <td>40.196261</td>\n",
       "      <td>3641.057641</td>\n",
       "    </tr>\n",
       "  </tbody>\n",
       "</table>\n",
       "</div>"
      ],
      "text/plain": [
       "  features       mean  median  min       max     range         std       skew  \\\n",
       "0      amt  67.614408   47.15  1.0  22768.11  22767.11  152.471793  40.196261   \n",
       "\n",
       "      kurtosis  \n",
       "0  3641.057641  "
      ]
     },
     "metadata": {},
     "output_type": "display_data"
    },
    {
     "data": {
      "text/html": [
       "<div>\n",
       "<style scoped>\n",
       "    .dataframe tbody tr th:only-of-type {\n",
       "        vertical-align: middle;\n",
       "    }\n",
       "\n",
       "    .dataframe tbody tr th {\n",
       "        vertical-align: top;\n",
       "    }\n",
       "\n",
       "    .dataframe thead th {\n",
       "        text-align: right;\n",
       "    }\n",
       "</style>\n",
       "<table border=\"1\" class=\"dataframe\">\n",
       "  <thead>\n",
       "    <tr style=\"text-align: right;\">\n",
       "      <th></th>\n",
       "      <th>features</th>\n",
       "      <th>mean</th>\n",
       "      <th>median</th>\n",
       "      <th>min</th>\n",
       "      <th>max</th>\n",
       "      <th>range</th>\n",
       "      <th>std</th>\n",
       "      <th>skew</th>\n",
       "      <th>kurtosis</th>\n",
       "    </tr>\n",
       "  </thead>\n",
       "  <tbody>\n",
       "    <tr>\n",
       "      <th>0</th>\n",
       "      <td>amt</td>\n",
       "      <td>528.356494</td>\n",
       "      <td>371.94</td>\n",
       "      <td>1.78</td>\n",
       "      <td>1320.92</td>\n",
       "      <td>1319.14</td>\n",
       "      <td>392.656034</td>\n",
       "      <td>0.037961</td>\n",
       "      <td>-1.526826</td>\n",
       "    </tr>\n",
       "  </tbody>\n",
       "</table>\n",
       "</div>"
      ],
      "text/plain": [
       "  features        mean  median   min      max    range         std      skew  \\\n",
       "0      amt  528.356494  371.94  1.78  1320.92  1319.14  392.656034  0.037961   \n",
       "\n",
       "   kurtosis  \n",
       "0 -1.526826  "
      ]
     },
     "metadata": {},
     "output_type": "display_data"
    }
   ],
   "source": [
    "# Estatísticas descritivas das Transações Legítimas\n",
    "display(descriptive_statistics(df1.loc[df1.is_fraud == 0][['amt']]))\n",
    "\n",
    "# Estatísticas descritivas das Transações Fraudulentas\n",
    "display(descriptive_statistics(df1.loc[df1.is_fraud == 1][['amt']]))"
   ]
  },
  {
   "cell_type": "code",
   "execution_count": 11,
   "metadata": {},
   "outputs": [
    {
     "data": {
      "image/png": "[encoded data removed]",
      "text/plain": [
       "<Figure size 1000x500 with 2 Axes>"
      ]
     },
     "metadata": {},
     "output_type": "display_data"
    }
   ],
   "source": [
    "# Crie uma figura e eixos com 1 linha e 2 colunas\n",
    "fig, axes = plt.subplots(1, 2, figsize=(10, 5))\n",
    "\n",
    "# Plotar o primeiro histograma (Transações Legítimas)\n",
    "sns.histplot(data=df1.loc[df1.is_fraud == 0], x='amt', bins=20, color='blue', ax=axes[0])\n",
    "axes[0].axvline(x=df1.loc[df1.is_fraud == 0, 'amt'].mean(), color='black', linestyle='--', label=f'Média: {df1.loc[df1.is_fraud == 0, 'amt'].mean():.2f}')\n",
    "axes[0].set_title('Transações Legítimas')\n",
    "axes[0].set_xlabel('Valor')\n",
    "axes[0].set_ylabel('Frequência')\n",
    "axes[0].legend()\n",
    "\n",
    "# Plotar o segundo histograma (Transações Fraudulentas)\n",
    "sns.histplot(data=df1.loc[df1.is_fraud == 1], x='amt', bins=20, color='red', ax=axes[1])\n",
    "axes[1].axvline(x=df1.loc[df1.is_fraud == 1, 'amt'].mean(), color='black', linestyle='--', label=f'Média: {df1.loc[df1.is_fraud == 1, 'amt'].mean():.2f}')\n",
    "axes[1].set_title('Transações Fraudulentas')\n",
    "axes[1].set_xlabel('Valor')\n",
    "axes[1].set_ylabel('Frequência')\n",
    "axes[1].legend()\n",
    "\n",
    "\n",
    "# Ajustar layout\n",
    "plt.tight_layout()\n",
    "\n",
    "# Mostrar o gráfico\n",
    "plt.show()"
   ]
  },
  {
   "cell_type": "markdown",
   "metadata": {},
   "source": [
    "# 2.0 Data Cleaning"
   ]
  },
  {
   "cell_type": "code",
   "execution_count": 12,
   "metadata": {},
   "outputs": [],
   "source": [
    "df2 = df1.copy()\n",
    "# Exibir todas as colunas\n",
    "pd.set_option('display.max_columns', None)"
   ]
  },
  {
   "cell_type": "markdown",
   "metadata": {},
   "source": [
    "## 2.1. Change Data Type"
   ]
  },
  {
   "cell_type": "code",
   "execution_count": 13,
   "metadata": {},
   "outputs": [],
   "source": [
    "# Converting to Datetime\n",
    "\n",
    "# CRIAR FUNÇÃO\n",
    "df2.trans_date_trans_time = pd.to_datetime(df2.trans_date_trans_time, dayfirst=True)\n",
    "df2.dob = pd.to_datetime(df2.dob, dayfirst=True)\n",
    "df2.unix_time = pd.to_datetime(df2.unix_time, unit = 's')"
   ]
  },
  {
   "cell_type": "markdown",
   "metadata": {},
   "source": [
    "# 3.0 Feature Engineering"
   ]
  },
  {
   "cell_type": "code",
   "execution_count": 14,
   "metadata": {},
   "outputs": [],
   "source": [
    "df3 = df2.copy()"
   ]
  },
  {
   "cell_type": "code",
   "execution_count": 15,
   "metadata": {},
   "outputs": [],
   "source": [
    "# Variável de Idade\n",
    "df3['age'] = df3['dob'].apply(lambda x: relativedelta(datetime.now(), x).years)\n",
    "\n",
    "# Variáveis de Tempo\n",
    "df3['month'] = df3.trans_date_trans_time.dt.month\n",
    "df3['day'] = df3.trans_date_trans_time.dt.day\n",
    "df3['weekday'] = df3.trans_date_trans_time.dt.weekday\n",
    "df3['hour'] = df3.trans_date_trans_time.dt.hour\n",
    "df3['minute'] = df3.trans_date_trans_time.dt.minute"
   ]
  },
  {
   "cell_type": "code",
   "execution_count": 16,
   "metadata": {},
   "outputs": [
    {
     "data": {
      "text/html": [
       "<div>\n",
       "<style scoped>\n",
       "    .dataframe tbody tr th:only-of-type {\n",
       "        vertical-align: middle;\n",
       "    }\n",
       "\n",
       "    .dataframe tbody tr th {\n",
       "        vertical-align: top;\n",
       "    }\n",
       "\n",
       "    .dataframe thead th {\n",
       "        text-align: right;\n",
       "    }\n",
       "</style>\n",
       "<table border=\"1\" class=\"dataframe\">\n",
       "  <thead>\n",
       "    <tr style=\"text-align: right;\">\n",
       "      <th></th>\n",
       "      <th>city</th>\n",
       "      <th>city_pop</th>\n",
       "      <th>is_fraud</th>\n",
       "      <th>fraud_per_pop</th>\n",
       "    </tr>\n",
       "  </thead>\n",
       "  <tbody>\n",
       "    <tr>\n",
       "      <th>0</th>\n",
       "      <td>Achille</td>\n",
       "      <td>608</td>\n",
       "      <td>0</td>\n",
       "      <td>0.000000</td>\n",
       "    </tr>\n",
       "    <tr>\n",
       "      <th>1</th>\n",
       "      <td>Acworth</td>\n",
       "      <td>477</td>\n",
       "      <td>0</td>\n",
       "      <td>0.000000</td>\n",
       "    </tr>\n",
       "    <tr>\n",
       "      <th>2</th>\n",
       "      <td>Adams</td>\n",
       "      <td>3508</td>\n",
       "      <td>12</td>\n",
       "      <td>0.003421</td>\n",
       "    </tr>\n",
       "    <tr>\n",
       "      <th>3</th>\n",
       "      <td>Afton</td>\n",
       "      <td>2916</td>\n",
       "      <td>7</td>\n",
       "      <td>0.002401</td>\n",
       "    </tr>\n",
       "    <tr>\n",
       "      <th>4</th>\n",
       "      <td>Akron</td>\n",
       "      <td>272134</td>\n",
       "      <td>9</td>\n",
       "      <td>0.000033</td>\n",
       "    </tr>\n",
       "    <tr>\n",
       "      <th>...</th>\n",
       "      <td>...</td>\n",
       "      <td>...</td>\n",
       "      <td>...</td>\n",
       "      <td>...</td>\n",
       "    </tr>\n",
       "    <tr>\n",
       "      <th>844</th>\n",
       "      <td>Woods Cross</td>\n",
       "      <td>13983</td>\n",
       "      <td>0</td>\n",
       "      <td>0.000000</td>\n",
       "    </tr>\n",
       "    <tr>\n",
       "      <th>845</th>\n",
       "      <td>Woodville</td>\n",
       "      <td>3395</td>\n",
       "      <td>10</td>\n",
       "      <td>0.002946</td>\n",
       "    </tr>\n",
       "    <tr>\n",
       "      <th>846</th>\n",
       "      <td>Yellowstone National Park</td>\n",
       "      <td>369</td>\n",
       "      <td>0</td>\n",
       "      <td>0.000000</td>\n",
       "    </tr>\n",
       "    <tr>\n",
       "      <th>847</th>\n",
       "      <td>Zaleski</td>\n",
       "      <td>341</td>\n",
       "      <td>0</td>\n",
       "      <td>0.000000</td>\n",
       "    </tr>\n",
       "    <tr>\n",
       "      <th>848</th>\n",
       "      <td>Zavalla</td>\n",
       "      <td>2836</td>\n",
       "      <td>12</td>\n",
       "      <td>0.004231</td>\n",
       "    </tr>\n",
       "  </tbody>\n",
       "</table>\n",
       "<p>849 rows × 4 columns</p>\n",
       "</div>"
      ],
      "text/plain": [
       "                          city  city_pop  is_fraud  fraud_per_pop\n",
       "0                      Achille       608         0       0.000000\n",
       "1                      Acworth       477         0       0.000000\n",
       "2                        Adams      3508        12       0.003421\n",
       "3                        Afton      2916         7       0.002401\n",
       "4                        Akron    272134         9       0.000033\n",
       "..                         ...       ...       ...            ...\n",
       "844                Woods Cross     13983         0       0.000000\n",
       "845                  Woodville      3395        10       0.002946\n",
       "846  Yellowstone National Park       369         0       0.000000\n",
       "847                    Zaleski       341         0       0.000000\n",
       "848                    Zavalla      2836        12       0.004231\n",
       "\n",
       "[849 rows x 4 columns]"
      ]
     },
     "execution_count": 16,
     "metadata": {},
     "output_type": "execute_result"
    }
   ],
   "source": [
    "# CRIAR FUNÇÃO\n",
    "\n",
    "# Criando um df com as Cidades e suas maiores Populações encontradas\n",
    "# No datafram originais, a mesma cidade aparece com populações diferetes \n",
    "cidades = df3.groupby('city')['city_pop'].max().reset_index()\n",
    "city_fraud = df3.groupby('city')['is_fraud'].sum()\n",
    "cidades = pd.merge(cidades, city_fraud, on = 'city')\n",
    "cidades['fraud_per_pop'] = cidades.is_fraud / cidades.city_pop\n",
    "cidades"
   ]
  },
  {
   "cell_type": "code",
   "execution_count": 17,
   "metadata": {},
   "outputs": [],
   "source": [
    "# CRIAR FUNÇÕES\n",
    "\n",
    "# JOIN DAS CIDADES COM A BASE DE TRANSAÇÕES\n",
    "df3['city_pop'] = df3.apply(lambda x: cidades.loc[cidades['city'] == x['city'], 'city_pop'].values[0] if x['city'] in cidades['city'].values else x['city_pop'], axis=1)\n",
    "\n",
    "# Join para pegar a proporção de frauders por habitante\n",
    "df3 = pd.merge(df3, cidades[['city', 'fraud_per_pop']], on = 'city')"
   ]
  },
  {
   "cell_type": "code",
   "execution_count": 18,
   "metadata": {},
   "outputs": [
    {
     "data": {
      "text/plain": [
       "0        2020-06-21 12:14:00\n",
       "1        2020-06-21 12:14:00\n",
       "2        2020-06-21 12:14:00\n",
       "3        2020-06-21 12:15:00\n",
       "4        2020-06-21 12:15:00\n",
       "                 ...        \n",
       "555714   2020-12-31 23:59:00\n",
       "555715   2020-12-31 23:59:00\n",
       "555716   2020-12-31 23:59:00\n",
       "555717   2020-12-31 23:59:00\n",
       "555718   2020-12-31 23:59:00\n",
       "Name: trans_date_trans_time, Length: 555719, dtype: datetime64[ns]"
      ]
     },
     "execution_count": 18,
     "metadata": {},
     "output_type": "execute_result"
    }
   ],
   "source": [
    "df3.trans_date_trans_time\n",
    "# category\n",
    "# amt\n",
    "# gender\n",
    "# lat\n",
    "# long\n",
    "#city_pop\n",
    "# job (???)\n",
    "# merch_lat\n",
    "# merch_long\n",
    "# age\n",
    "# month\n",
    "# day\tweekday\thour\tminute\tfraud_per_pop"
   ]
  },
  {
   "cell_type": "markdown",
   "metadata": {},
   "source": [
    "# 4.0 EDA - Exploratory Data Analysis"
   ]
  },
  {
   "cell_type": "code",
   "execution_count": 19,
   "metadata": {},
   "outputs": [],
   "source": [
    "df4 = df3.copy()"
   ]
  },
  {
   "cell_type": "markdown",
   "metadata": {},
   "source": [
    "# 5.0 Feature Selection"
   ]
  },
  {
   "cell_type": "code",
   "execution_count": 20,
   "metadata": {},
   "outputs": [],
   "source": [
    "df5 = df4.copy()"
   ]
  },
  {
   "cell_type": "code",
   "execution_count": 21,
   "metadata": {},
   "outputs": [
    {
     "data": {
      "text/html": [
       "<div>\n",
       "<style scoped>\n",
       "    .dataframe tbody tr th:only-of-type {\n",
       "        vertical-align: middle;\n",
       "    }\n",
       "\n",
       "    .dataframe tbody tr th {\n",
       "        vertical-align: top;\n",
       "    }\n",
       "\n",
       "    .dataframe thead th {\n",
       "        text-align: right;\n",
       "    }\n",
       "</style>\n",
       "<table border=\"1\" class=\"dataframe\">\n",
       "  <thead>\n",
       "    <tr style=\"text-align: right;\">\n",
       "      <th></th>\n",
       "      <th>category</th>\n",
       "      <th>amt</th>\n",
       "      <th>gender</th>\n",
       "      <th>lat</th>\n",
       "      <th>long</th>\n",
       "      <th>city_pop</th>\n",
       "      <th>merch_lat</th>\n",
       "      <th>merch_long</th>\n",
       "      <th>age</th>\n",
       "      <th>month</th>\n",
       "      <th>day</th>\n",
       "      <th>weekday</th>\n",
       "      <th>hour</th>\n",
       "      <th>minute</th>\n",
       "      <th>fraud_per_pop</th>\n",
       "      <th>is_fraud</th>\n",
       "    </tr>\n",
       "  </thead>\n",
       "  <tbody>\n",
       "    <tr>\n",
       "      <th>0</th>\n",
       "      <td>personal_care</td>\n",
       "      <td>2.86</td>\n",
       "      <td>M</td>\n",
       "      <td>33.9659</td>\n",
       "      <td>-80.9355</td>\n",
       "      <td>333497</td>\n",
       "      <td>33.986391</td>\n",
       "      <td>-81.200714</td>\n",
       "      <td>56</td>\n",
       "      <td>6</td>\n",
       "      <td>21</td>\n",
       "      <td>6</td>\n",
       "      <td>12</td>\n",
       "      <td>14</td>\n",
       "      <td>0.000000</td>\n",
       "      <td>0</td>\n",
       "    </tr>\n",
       "    <tr>\n",
       "      <th>1</th>\n",
       "      <td>personal_care</td>\n",
       "      <td>29.84</td>\n",
       "      <td>F</td>\n",
       "      <td>40.3207</td>\n",
       "      <td>-110.4360</td>\n",
       "      <td>302</td>\n",
       "      <td>39.450498</td>\n",
       "      <td>-109.960431</td>\n",
       "      <td>34</td>\n",
       "      <td>6</td>\n",
       "      <td>21</td>\n",
       "      <td>6</td>\n",
       "      <td>12</td>\n",
       "      <td>14</td>\n",
       "      <td>0.000000</td>\n",
       "      <td>0</td>\n",
       "    </tr>\n",
       "    <tr>\n",
       "      <th>2</th>\n",
       "      <td>health_fitness</td>\n",
       "      <td>41.28</td>\n",
       "      <td>F</td>\n",
       "      <td>40.6729</td>\n",
       "      <td>-73.5365</td>\n",
       "      <td>34496</td>\n",
       "      <td>40.495810</td>\n",
       "      <td>-74.196111</td>\n",
       "      <td>53</td>\n",
       "      <td>6</td>\n",
       "      <td>21</td>\n",
       "      <td>6</td>\n",
       "      <td>12</td>\n",
       "      <td>14</td>\n",
       "      <td>0.000000</td>\n",
       "      <td>0</td>\n",
       "    </tr>\n",
       "    <tr>\n",
       "      <th>3</th>\n",
       "      <td>misc_pos</td>\n",
       "      <td>60.05</td>\n",
       "      <td>M</td>\n",
       "      <td>28.5697</td>\n",
       "      <td>-80.8191</td>\n",
       "      <td>54767</td>\n",
       "      <td>28.812398</td>\n",
       "      <td>-80.883061</td>\n",
       "      <td>36</td>\n",
       "      <td>6</td>\n",
       "      <td>21</td>\n",
       "      <td>6</td>\n",
       "      <td>12</td>\n",
       "      <td>15</td>\n",
       "      <td>0.000183</td>\n",
       "      <td>0</td>\n",
       "    </tr>\n",
       "    <tr>\n",
       "      <th>4</th>\n",
       "      <td>travel</td>\n",
       "      <td>3.19</td>\n",
       "      <td>M</td>\n",
       "      <td>44.2529</td>\n",
       "      <td>-85.0170</td>\n",
       "      <td>1126</td>\n",
       "      <td>44.959148</td>\n",
       "      <td>-85.884734</td>\n",
       "      <td>68</td>\n",
       "      <td>6</td>\n",
       "      <td>21</td>\n",
       "      <td>6</td>\n",
       "      <td>12</td>\n",
       "      <td>15</td>\n",
       "      <td>0.000000</td>\n",
       "      <td>0</td>\n",
       "    </tr>\n",
       "  </tbody>\n",
       "</table>\n",
       "</div>"
      ],
      "text/plain": [
       "         category    amt gender      lat      long  city_pop  merch_lat  \\\n",
       "0   personal_care   2.86      M  33.9659  -80.9355    333497  33.986391   \n",
       "1   personal_care  29.84      F  40.3207 -110.4360       302  39.450498   \n",
       "2  health_fitness  41.28      F  40.6729  -73.5365     34496  40.495810   \n",
       "3        misc_pos  60.05      M  28.5697  -80.8191     54767  28.812398   \n",
       "4          travel   3.19      M  44.2529  -85.0170      1126  44.959148   \n",
       "\n",
       "   merch_long  age  month  day  weekday  hour  minute  fraud_per_pop  is_fraud  \n",
       "0  -81.200714   56      6   21        6    12      14       0.000000         0  \n",
       "1 -109.960431   34      6   21        6    12      14       0.000000         0  \n",
       "2  -74.196111   53      6   21        6    12      14       0.000000         0  \n",
       "3  -80.883061   36      6   21        6    12      15       0.000183         0  \n",
       "4  -85.884734   68      6   21        6    12      15       0.000000         0  "
      ]
     },
     "execution_count": 21,
     "metadata": {},
     "output_type": "execute_result"
    }
   ],
   "source": [
    "## TESTE DE SIGNIFICANCIA\n",
    "selecao = ['category', 'amt', 'gender', 'lat', 'long', 'city_pop', 'merch_lat', 'merch_long', 'age', 'month','day','weekday','hour','minute','fraud_per_pop', 'is_fraud']\n",
    "\n",
    "df5 = df5[selecao]\n",
    "\n",
    "df5.head()\n"
   ]
  },
  {
   "cell_type": "markdown",
   "metadata": {},
   "source": [
    "# 6. Data Preparation"
   ]
  },
  {
   "cell_type": "code",
   "execution_count": 22,
   "metadata": {},
   "outputs": [],
   "source": [
    "df6 = df5.copy()\n",
    "\n",
    "X = df6.drop('is_fraud', axis=1).copy()\n",
    "y = df6['is_fraud']"
   ]
  },
  {
   "cell_type": "markdown",
   "metadata": {},
   "source": [
    "# 6.1 Encoding"
   ]
  },
  {
   "cell_type": "code",
   "execution_count": 23,
   "metadata": {},
   "outputs": [],
   "source": [
    "# Binarization\n",
    "X['gender'] = X.apply(lambda x: 1 if x['gender'] == 'M' else 2, axis= 1)\n",
    "\n",
    "# Encoding\n",
    "X = pd.get_dummies(X)"
   ]
  },
  {
   "cell_type": "markdown",
   "metadata": {},
   "source": [
    "## Data Balacing - Undersampling"
   ]
  },
  {
   "cell_type": "code",
   "execution_count": 108,
   "metadata": {},
   "outputs": [
    {
     "name": "stdout",
     "output_type": "stream",
     "text": [
      "Tamanho do Dataset: 555719\n",
      "Tamanho de 0: 553574\n",
      "Tamanho de 1: 2145\n",
      "Tamanho do Dataset Resampled: 4290\n",
      "Tamanho de 0: 2145\n",
      "Tamanho de 1: 2145\n"
     ]
    }
   ],
   "source": [
    "from imblearn.under_sampling import RandomUnderSampler\n",
    "\n",
    "# Criar uma instância de RandomUnderSampler\n",
    "undersampler = RandomUnderSampler(random_state=42)\n",
    "\n",
    "# Tamanho do Dataset\n",
    "print('Tamanho do Dataset:', y.shape[0])\n",
    "print('Tamanho de 0:', y.value_counts()[0])\n",
    "print('Tamanho de 1:', y.value_counts()[1])\n",
    "\n",
    "# Aplicar undersampling aos dados\n",
    "X_resampled, y_resampled = undersampler.fit_resample(X, y)\n",
    "\n",
    "# Tamanho do Dataset\n",
    "print('Tamanho do Dataset Resampled:', y_resampled.shape[0])\n",
    "print('Tamanho de 0:', y_resampled.value_counts()[0])\n",
    "print('Tamanho de 1:', y_resampled.value_counts()[1])"
   ]
  },
  {
   "cell_type": "markdown",
   "metadata": {},
   "source": [
    "## 6.2 Train Test Split"
   ]
  },
  {
   "cell_type": "code",
   "execution_count": 25,
   "metadata": {},
   "outputs": [
    {
     "name": "stdout",
     "output_type": "stream",
     "text": [
      "X_train (3432, 28)\n",
      "y_train (3432,)\n",
      "X_test (858, 28)\n",
      "y_test (858,)\n"
     ]
    }
   ],
   "source": [
    "X_train, X_test, y_train, y_test =  train_test_split(X_resampled, y_resampled, test_size = 0.2, random_state= 42)\n",
    "\n",
    "print('X_train', X_train.shape)\n",
    "print('y_train', y_train.shape)\n",
    "print('X_test', X_test.shape)\n",
    "print('y_test', y_test.shape)"
   ]
  },
  {
   "cell_type": "markdown",
   "metadata": {},
   "source": [
    "## 6.3 Normalization"
   ]
  },
  {
   "cell_type": "code",
   "execution_count": 109,
   "metadata": {},
   "outputs": [],
   "source": [
    "# Normalization Definition \n",
    "ss = StandardScaler()\n",
    "X_train[['amt', 'lat', 'long', 'city_pop','age', 'month', 'day', 'weekday', 'hour', 'minute']] = ss.fit_transform(X = X_train[['amt', 'lat', 'long', 'city_pop','age', 'month', 'day', 'weekday', 'hour', 'minute']])\n",
    "X_test[['amt', 'lat', 'long', 'city_pop','age', 'month', 'day', 'weekday', 'hour', 'minute']] = ss.fit_transform(X = X_test[['amt', 'lat', 'long', 'city_pop','age', 'month', 'day', 'weekday', 'hour', 'minute']])\n",
    "X_resampled[['amt', 'lat', 'long', 'city_pop','age', 'month', 'day', 'weekday', 'hour', 'minute']] = ss.fit_transform(X = X_resampled[['amt', 'lat', 'long', 'city_pop','age', 'month', 'day', 'weekday', 'hour', 'minute']])\n",
    "\n"
   ]
  },
  {
   "cell_type": "markdown",
   "metadata": {},
   "source": [
    "# 7.0 Machine Learning Modelling"
   ]
  },
  {
   "cell_type": "code",
   "execution_count": 27,
   "metadata": {},
   "outputs": [],
   "source": [
    "from sklearn.linear_model import LogisticRegression\n",
    "from  sklearn.model_selection import cross_validate\n",
    "from sklearn.ensemble import RandomForestClassifier, GradientBoostingClassifier\n",
    "from sklearn.neighbors import KNeighborsClassifier"
   ]
  },
  {
   "cell_type": "code",
   "execution_count": 31,
   "metadata": {},
   "outputs": [],
   "source": [
    "def overfitting_eval(train_scores, test_scores, threshold):\n",
    "    for i, (train_score, test_score) in enumerate(zip(train_scores, test_scores)):\n",
    "        if (train_score - test_score) >= threshold:\n",
    "            print(f\"Fold {i+1}: Potencial overfitting: pontuação de treinamento superior ({train_score.round(2)}) à pontuação de teste ({test_score.round(2)}), num threshold de {threshold}.\")\n",
    "        else:\n",
    "            print(f\"Fold {i+1}: No sign of overfitting\")\n",
    "\n",
    "def plot_cv_performance(scores, num_folds):\n",
    "    test_scores = scores['test_score']\n",
    "    # Plotar os resultados da validação cruzada\n",
    "    plt.figure(figsize=(5, 3))\n",
    "    plt.plot(np.arange(1, num_folds + 1), test_scores, marker='o', linestyle='-')\n",
    "    plt.xlabel('Fold')\n",
    "    plt.ylabel('Accuracy')\n",
    "    plt.title('Cross-Validation Performance')\n",
    "    plt.grid(True)\n",
    "    plt.show()"
   ]
  },
  {
   "cell_type": "markdown",
   "metadata": {},
   "source": [
    "## 7.1 K-NN Classifier"
   ]
  },
  {
   "cell_type": "code",
   "execution_count": 29,
   "metadata": {},
   "outputs": [
    {
     "name": "stdout",
     "output_type": "stream",
     "text": [
      "Fold 1: Potencial overfitting: pontuação de treinamento superior (0.92) à pontuação de teste (0.56), num threshold de 0.2.\n",
      "Fold 2: Potencial overfitting: pontuação de treinamento superior (0.92) à pontuação de teste (0.69), num threshold de 0.2.\n",
      "Fold 3: Potencial overfitting: pontuação de treinamento superior (0.92) à pontuação de teste (0.62), num threshold de 0.2.\n",
      "Fold 4: Potencial overfitting: pontuação de treinamento superior (0.93) à pontuação de teste (0.72), num threshold de 0.2.\n",
      "Fold 5: No sign of overfitting\n",
      "Fold 6: Potencial overfitting: pontuação de treinamento superior (0.92) à pontuação de teste (0.63), num threshold de 0.2.\n",
      "Fold 7: Potencial overfitting: pontuação de treinamento superior (0.93) à pontuação de teste (0.63), num threshold de 0.2.\n",
      "Fold 8: No sign of overfitting\n",
      "Fold 9: Potencial overfitting: pontuação de treinamento superior (0.92) à pontuação de teste (0.66), num threshold de 0.2.\n",
      "Fold 10: Potencial overfitting: pontuação de treinamento superior (0.92) à pontuação de teste (0.56), num threshold de 0.2.\n",
      "F1-score: 0.922077922077922\n"
     ]
    }
   ],
   "source": [
    "# Model Definition\n",
    "knn = KNeighborsClassifier()\n",
    "# Cross-Validation\n",
    "knn_cv = cross_validate(knn, X_resampled, y_resampled, scoring='f1', cv= 10, return_train_score = True)\n",
    "# Overfitting evaluation\n",
    "overfitting_eval(knn_cv['train_score'] , knn_cv['test_score'], 0.2)\n",
    "# Model training\n",
    "knn.fit(X_resampled, y_resampled)\n",
    "# Model prediction\n",
    "y_hat = knn.predict(X_resampled)\n",
    "# Model performance\n",
    "print('F1-score:', f1_score(y_resampled, y_hat))"
   ]
  },
  {
   "cell_type": "code",
   "execution_count": 32,
   "metadata": {},
   "outputs": [
    {
     "data": {
      "image/png": "[encoded data removed]",
      "text/plain": [
       "<Figure size 500x300 with 1 Axes>"
      ]
     },
     "metadata": {},
     "output_type": "display_data"
    }
   ],
   "source": [
    "plot_cv_performance(knn_cv, 10)"
   ]
  },
  {
   "cell_type": "code",
   "execution_count": 33,
   "metadata": {},
   "outputs": [
    {
     "data": {
      "image/png": "[encoded data removed]",
      "text/plain": [
       "<Figure size 800x600 with 1 Axes>"
      ]
     },
     "metadata": {},
     "output_type": "display_data"
    }
   ],
   "source": [
    "roc_curve(y_resampled, y_hat)\n",
    "\n",
    "from sklearn.metrics import roc_curve, auc\n",
    "\n",
    "# Calcule a taxa de verdadeiros positivos (TPR) e taxa de falsos positivos (FPR)\n",
    "fpr, tpr, thresholds = roc_curve(y_resampled, y_hat)\n",
    "\n",
    "# Calcule a área sob a curva ROC (AUC-ROC)\n",
    "roc_auc = auc(fpr, tpr)\n",
    "\n",
    "# Plotar a curva ROC\n",
    "plt.figure(figsize=(8, 6))\n",
    "plt.plot(fpr, tpr, color='blue', lw=2, label='ROC curve (AUC = %0.2f)' % roc_auc)\n",
    "plt.plot([0, 1], [0, 1], color='gray', linestyle='--', lw=2)\n",
    "plt.xlim([0.0, 1.0])\n",
    "plt.ylim([0.0, 1.05])\n",
    "plt.xlabel('False Positive Rate')\n",
    "plt.ylabel('True Positive Rate')\n",
    "plt.title('Receiver Operating Characteristic (ROC) Curve')\n",
    "plt.legend(loc=\"lower right\")\n",
    "plt.show()\n"
   ]
  },
  {
   "cell_type": "markdown",
   "metadata": {},
   "source": [
    "## 7.2 Random Forest Classifier"
   ]
  },
  {
   "cell_type": "code",
   "execution_count": 34,
   "metadata": {},
   "outputs": [
    {
     "name": "stdout",
     "output_type": "stream",
     "text": [
      "Fold 1: No sign of overfitting\n",
      "Fold 2: No sign of overfitting\n",
      "Fold 3: No sign of overfitting\n",
      "Fold 4: No sign of overfitting\n",
      "Fold 5: No sign of overfitting\n",
      "Fold 6: No sign of overfitting\n",
      "Fold 7: No sign of overfitting\n",
      "Fold 8: No sign of overfitting\n",
      "Fold 9: No sign of overfitting\n",
      "Fold 10: Potencial overfitting: pontuação de treinamento superior (1.0) à pontuação de teste (0.8), num threshold de 0.2.\n",
      "F1-score: 1.0\n"
     ]
    }
   ],
   "source": [
    "# Model Definition\n",
    "rfc = RandomForestClassifier(random_state = 42)\n",
    "# Cross-Validation\n",
    "rfc_cv = cross_validate(rfc, X_resampled, y_resampled, scoring='f1', cv= 10, return_train_score = True)\n",
    "# Overfitting Evaluation\n",
    "overfitting_eval(rfc_cv['train_score'] , rfc_cv['test_score'], 0.2)\n",
    "# Model training\n",
    "rfc.fit(X_resampled, y_resampled)\n",
    "# Model prediction\n",
    "y_hat = rfc.predict(X_resampled)\n",
    "# Model performance\n",
    "print('F1-score:', f1_score(y_resampled, y_hat))"
   ]
  },
  {
   "cell_type": "code",
   "execution_count": 36,
   "metadata": {},
   "outputs": [
    {
     "data": {
      "image/png": "[encoded data removed]",
      "text/plain": [
       "<Figure size 500x300 with 1 Axes>"
      ]
     },
     "metadata": {},
     "output_type": "display_data"
    }
   ],
   "source": [
    "plot_cv_performance(rfc_cv, 10)"
   ]
  },
  {
   "cell_type": "markdown",
   "metadata": {},
   "source": [
    "## 7.3 XGBoost Classifier"
   ]
  },
  {
   "cell_type": "code",
   "execution_count": 37,
   "metadata": {},
   "outputs": [
    {
     "name": "stdout",
     "output_type": "stream",
     "text": [
      "Fold 1: No sign of overfitting\n",
      "Fold 2: No sign of overfitting\n",
      "Fold 3: No sign of overfitting\n",
      "Fold 4: No sign of overfitting\n",
      "Fold 5: No sign of overfitting\n",
      "Fold 6: No sign of overfitting\n",
      "Fold 7: No sign of overfitting\n",
      "Fold 8: No sign of overfitting\n",
      "Fold 9: No sign of overfitting\n",
      "Fold 10: No sign of overfitting\n",
      "F1-score: 0.9881422924901185\n"
     ]
    }
   ],
   "source": [
    "# Model Definition\n",
    "xgb = GradientBoostingClassifier(random_state = 42)\n",
    "# Cross-Validation\n",
    "xgb_cv = cross_validate(xgb, X_resampled, y_resampled, scoring='f1', cv= 10, return_train_score = True)\n",
    "# Overfitting Evaluation\n",
    "overfitting_eval(xgb_cv['train_score'] , xgb_cv['test_score'], 0.2)\n",
    "# Model training\n",
    "xgb.fit(X_resampled, y_resampled)\n",
    "# Model prediction\n",
    "y_hat = xgb.predict(X_resampled)\n",
    "# Model performance\n",
    "print('F1-score:', f1_score(y_resampled, y_hat))"
   ]
  },
  {
   "cell_type": "code",
   "execution_count": 39,
   "metadata": {},
   "outputs": [
    {
     "data": {
      "image/png": "[encoded data removed]",
      "text/plain": [
       "<Figure size 500x300 with 1 Axes>"
      ]
     },
     "metadata": {},
     "output_type": "display_data"
    }
   ],
   "source": [
    "plot_cv_performance(xgb_cv, 10)"
   ]
  },
  {
   "cell_type": "code",
   "execution_count": 114,
   "metadata": {},
   "outputs": [],
   "source": [
    "X_resampled[['amt', 'lat', 'long', 'city_pop','age', 'month', 'day', 'weekday', 'hour', 'minute']] = ss.inverse_transform(X = X_resampled[['amt', 'lat', 'long', 'city_pop','age', 'month', 'day', 'weekday', 'hour', 'minute']])"
   ]
  },
  {
   "cell_type": "code",
   "execution_count": 85,
   "metadata": {},
   "outputs": [
    {
     "data": {
      "text/plain": [
       "1133324.68"
      ]
     },
     "execution_count": 85,
     "metadata": {},
     "output_type": "execute_result"
    }
   ],
   "source": [
    "# Custo total das fraude\n",
    "fraud_cost = X_resampled.loc[y_resampled == 1]['amt'].sum()\n",
    "fraud_cost.round(2)"
   ]
  },
  {
   "cell_type": "code",
   "execution_count": null,
   "metadata": {},
   "outputs": [],
   "source": []
  },
  {
   "cell_type": "code",
   "execution_count": 86,
   "metadata": {},
   "outputs": [
    {
     "data": {
      "text/plain": [
       "1132325.8"
      ]
     },
     "execution_count": 86,
     "metadata": {},
     "output_type": "execute_result"
    }
   ],
   "source": [
    "# Economia com o modelo\n",
    "# Custo com o modelo\n",
    "true_positive_indices = np.where((y_hat == 1) & (y_resampled == 1))[0]\n",
    "true_positive_cost = X_resampled.iloc[true_positive_indices]['amt'].sum()\n",
    "true_positive_cost"
   ]
  },
  {
   "cell_type": "code",
   "execution_count": 87,
   "metadata": {},
   "outputs": [
    {
     "data": {
      "text/plain": [
       "998.88"
      ]
     },
     "execution_count": 87,
     "metadata": {},
     "output_type": "execute_result"
    }
   ],
   "source": [
    "# Custo com o modelo\n",
    "false_negative_indices = np.where((y_hat == 0) & (y_resampled == 1))[0]\n",
    "false_negative_cost = X_resampled.iloc[false_negative_indices]['amt'].sum()\n",
    "false_negative_cost.round(2)"
   ]
  },
  {
   "cell_type": "code",
   "execution_count": 88,
   "metadata": {},
   "outputs": [
    {
     "data": {
      "text/plain": [
       "113259.54268781036"
      ]
     },
     "execution_count": 88,
     "metadata": {},
     "output_type": "execute_result"
    }
   ],
   "source": [
    "((1132325.8-998.88) / 998.88) *100"
   ]
  },
  {
   "cell_type": "code",
   "execution_count": 89,
   "metadata": {},
   "outputs": [
    {
     "data": {
      "text/plain": [
       "1132.5954268781036"
      ]
     },
     "execution_count": 89,
     "metadata": {},
     "output_type": "execute_result"
    }
   ],
   "source": [
    "(true_positive_cost - false_negative_cost) / false_negative_cost"
   ]
  },
  {
   "cell_type": "code",
   "execution_count": 92,
   "metadata": {},
   "outputs": [
    {
     "data": {
      "text/plain": [
       "1132.5954268781036"
      ]
     },
     "execution_count": 92,
     "metadata": {},
     "output_type": "execute_result"
    }
   ],
   "source": [
    "(true_positive_cost - false_negative_cost) / false_negative_cost"
   ]
  },
  {
   "cell_type": "code",
   "execution_count": 103,
   "metadata": {},
   "outputs": [],
   "source": [
    "def financial_impact_report(X_resampled, y_resampled, y_hat):\n",
    "        \"\"\"\n",
    "        Gera um relatório de impacto financeiro com base nos resultados das previsões do modelo de classificação.\n",
    "\n",
    "        Exibe mensagens com o impacto financeiro da aplicação do modelo de detecção de fraudes.\n",
    "        \"\"\"\n",
    "        # Calcula o número total de transações fraudulentas e falsos positivos\n",
    "        fraud_cost = X_resampled.loc[y_resampled == 1]['amt'].sum()\n",
    "        true_positive_indices = np.where((y_hat == 1) & (y_resampled == 1))[0]\n",
    "        true_positive_cost = X_resampled.iloc[true_positive_indices]['amt'].sum()\n",
    "        false_negative_indices = np.where((y_hat == 0) & (y_resampled == 1))[0]\n",
    "        false_negative_cost = X_resampled.iloc[false_negative_indices]['amt'].sum()\n",
    "\n",
    "        # Exibe mensagens com o impacto financeiro da aplicação do modelo\n",
    "        print(f\"\"\"\n",
    "        Relatório de Impacto Financeiro:\\n\n",
    "        Sem o modelo de detecção de fraude, o custo com a cobertura de transações fraudulentas foi de ${fraud_cost:,.2f}.\n",
    "        Se o modelo estivesse implementado, economizaríamos cerca de ${true_positive_cost:,.2f}, com cerca de ${false_negative_cost:,.2f} de custo devido a\n",
    "        falhas (falsos negativos)\n",
    "        Assim sendo, o retorno sobre o investimento (ROI) seria de ${((true_positive_cost - false_negative_cost) / false_negative_cost):,.2%}.\"\"\")"
   ]
  },
  {
   "cell_type": "code",
   "execution_count": 104,
   "metadata": {},
   "outputs": [
    {
     "name": "stdout",
     "output_type": "stream",
     "text": [
      "\n",
      "        Relatório de Impacto Financeiro:\n",
      "\n",
      "        Sem o modelo de detecção de fraude, o custo com a cobertura de transações fraudulentas foi de $1,133,324.68.\n",
      "        Se o modelo estivesse implementado, economizaríamos cerca de $1,132,325.80, com cerca de $998.88 de custo devido a\n",
      "        falhas (falsos negativos)\n",
      "        Assim sendo, o retorno sobre o investimento (ROI) seria de $113,259.54%.\n"
     ]
    }
   ],
   "source": [
    "financial_impact_report(X_resampled, y_resampled, y_hat)"
   ]
  },
  {
   "cell_type": "markdown",
   "metadata": {},
   "source": []
  },
  {
   "cell_type": "code",
   "execution_count": null,
   "metadata": {},
   "outputs": [],
   "source": [
    "def financial_impact_report(X_resampled, y_resampled, y_hat):\n",
    "        \"\"\"\n",
    "        Gera um relatório de impacto financeiro com base nos resultados das previsões do modelo de classificação.\n",
    "\n",
    "        Exibe mensagens com o impacto financeiro da aplicação do modelo de detecção de fraudes.\n",
    "        \"\"\"\n",
    "        # Calcula o número total de transações fraudulentas e falsos positivos\n",
    "        fraud_cost = self.scaler.inverse_transform(self.X).loc[self.y == 1]['amt'].sum()\n",
    "        false_positive_indices = np.where((self.y_predict == 1) & (self.y == 0))[0]\n",
    "        false_positive_cost = self.X_raw.iloc[false_positive_indices]['amt'].sum()\n",
    "\n",
    "        # Exibe mensagens com o impacto financeiro da aplicação do modelo\n",
    "        print(f\"\"\"Relatório de Impacto Financeiro:\\n\n",
    "            \n",
    "        Com a aplicação do modelo de detecção de fraude, seria economizado com a identificação de transações financeiras fraudulentas o total de ${fraud_cost:,.2f},\n",
    "        mediante a um gasto, correspondente ao valor de transações financeiras falso positivas de ${false_positive_cost:,.2f}.\n",
    "        Assim sendo, o retorno sobre o investimento (ROI) seria de ${(fraud_cost - false_positive_cost) / false_positive_cost:,.2f}.\"\"\")\n"
   ]
  }
 ],
 "metadata": {
  "kernelspec": {
   "display_name": "pos_venv",
   "language": "python",
   "name": "python3"
  },
  "language_info": {
   "codemirror_mode": {
    "name": "ipython",
    "version": 3
   },
   "file_extension": ".py",
   "mimetype": "text/x-python",
   "name": "python",
   "nbconvert_exporter": "python",
   "pygments_lexer": "ipython3",
   "version": "3.12.0"
  }
 },
 "nbformat": 4,
 "nbformat_minor": 2
}
